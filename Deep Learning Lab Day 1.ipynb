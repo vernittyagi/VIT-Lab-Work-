{
 "cells": [
  {
   "cell_type": "code",
   "execution_count": 3,
   "metadata": {},
   "outputs": [
    {
     "name": "stdout",
     "output_type": "stream",
     "text": [
      "William Shakespeare (bapt. 26 April 1564 – 23 April 1616)[a] was an English poet, playwright, and actor, widely regarded as the greatest writer in the English language and the world\n",
      "          's greatest dramatist.[2][3][4] He is often called Englands national poet and the \"Bard of Avon\" (or simply \"the Bard\").[5][b]\n",
      "            His extant works, including collaborations, consist of some 39 plays,[c] 154 sonnets, two long narrative poems, and a few other verses, some of uncertain authorship. His plays have been translated into every major\n",
      "            living language and are performed more often than those of any other playwright.\n"
     ]
    }
   ],
   "source": [
    "# printing the quoted string with double quotes\n",
    "a= \"\"\"William Shakespeare (bapt. 26 April 1564 – 23 April 1616)[a] was an English poet, playwright, and actor, widely regarded as the greatest writer in the English language and the world\n",
    "          's greatest dramatist.[2][3][4] He is often called Englands national poet and the \"Bard of Avon\" (or simply \"the Bard\").[5][b]\n",
    "            His extant works, including collaborations, consist of some 39 plays,[c] 154 sonnets, two long narrative poems, and a few other verses, some of uncertain authorship. His plays have been translated into every major\n",
    "            living language and are performed more often than those of any other playwright.\"\"\"\n",
    "print(a)"
   ]
  },
  {
   "cell_type": "code",
   "execution_count": 4,
   "metadata": {},
   "outputs": [
    {
     "name": "stdout",
     "output_type": "stream",
     "text": [
      "William Shakespeare (bapt. 26 April 1564 – 23 April 1616)[a] was an English poet, playwright, and actor, widely regarded as the greatest writer in the English language and the world\n",
      "          's greatest dramatist.[2][3][4] He is often called Englands national poet and the \"Bard of Avon\" (or simply \"the Bard\").[5][b]\n",
      "            His extant works, including collaborations, consist of some 39 plays,[c] 154 sonnets, two long narrative poems, and a few other verses, some of uncertain authorship. His plays have been translated into every major\n",
      "            living language and are performed more often than those of any other playwright.\n"
     ]
    }
   ],
   "source": [
    "# printing the quoted string with single quotes\n",
    "b ='''William Shakespeare (bapt. 26 April 1564 – 23 April 1616)[a] was an English poet, playwright, and actor, widely regarded as the greatest writer in the English language and the world\n",
    "          's greatest dramatist.[2][3][4] He is often called Englands national poet and the \"Bard of Avon\" (or simply \"the Bard\").[5][b]\n",
    "            His extant works, including collaborations, consist of some 39 plays,[c] 154 sonnets, two long narrative poems, and a few other verses, some of uncertain authorship. His plays have been translated into every major\n",
    "            living language and are performed more often than those of any other playwright.'''\n",
    "print(b)\n",
    "\n",
    "\n"
   ]
  },
  {
   "cell_type": "code",
   "execution_count": 5,
   "metadata": {},
   "outputs": [
    {
     "name": "stdout",
     "output_type": "stream",
     "text": [
      "Madrid\n"
     ]
    }
   ],
   "source": [
    "#list\n",
    "list = [\"Edinburg\",\"London\",\"Manchester\",\"Barcelona\",\"Madrid\",\"Milan\",\"Glassgow\",\"Bermingham\",\"Rome\",\"Berlin\"]\n",
    "print(list[4])"
   ]
  },
  {
   "cell_type": "code",
   "execution_count": 6,
   "metadata": {},
   "outputs": [
    {
     "name": "stdout",
     "output_type": "stream",
     "text": [
      "['Edinburg', 'London', 'Manchester', 'Barcelona']\n"
     ]
    }
   ],
   "source": [
    "print(list[: 4])"
   ]
  },
  {
   "cell_type": "code",
   "execution_count": 7,
   "metadata": {},
   "outputs": [],
   "source": [
    "list.append(\"Amsterdam\")"
   ]
  },
  {
   "cell_type": "code",
   "execution_count": 8,
   "metadata": {},
   "outputs": [
    {
     "name": "stdout",
     "output_type": "stream",
     "text": [
      "['Edinburg', 'London', 'Manchester', 'Barcelona', 'Madrid', 'Milan', 'Glassgow', 'Bermingham', 'Rome', 'Berlin', 'Amsterdam']\n"
     ]
    }
   ],
   "source": [
    "print(list)"
   ]
  },
  {
   "cell_type": "code",
   "execution_count": 9,
   "metadata": {},
   "outputs": [
    {
     "name": "stdout",
     "output_type": "stream",
     "text": [
      "{'Madrid', 'Glassgow', 'Manchester', 'Barcelona', 'London', 'Berlin', 'Milan', 'Edinburg', 'Rome', 'Bermingham'}\n"
     ]
    }
   ],
   "source": [
    "#tuple\n",
    "tuple = {\"Edinburg\",\"London\",\"Manchester\",\"Barcelona\",\"Madrid\",\"Milan\",\"Glassgow\",\"Bermingham\",\"Rome\",\"Berlin\",\"Berlin\"}\n",
    "print(tuple)\n",
    "\n"
   ]
  },
  {
   "cell_type": "code",
   "execution_count": 10,
   "metadata": {},
   "outputs": [
    {
     "name": "stdout",
     "output_type": "stream",
     "text": [
      "{'Tennis': 'Sania Mirza', 'boxing': 'Marry Kom', 'cricket': 'Mithali Raj', 'Wrestling': 'Sushil Kumar'}\n"
     ]
    }
   ],
   "source": [
    "#dictionary\n",
    "dict = {\"Tennis\": \"Sania Mirza\", \"boxing\": \"Marry Kom\", \"cricket\":\"Mithali Raj\",\"Wrestling\": \"Sushil Kumar\"}\n",
    "print(dict)"
   ]
  },
  {
   "cell_type": "code",
   "execution_count": 11,
   "metadata": {},
   "outputs": [
    {
     "name": "stdout",
     "output_type": "stream",
     "text": [
      "<class 'tuple'>\n"
     ]
    }
   ],
   "source": [
    "#to find data type \n",
    "t = 120,350,550\n",
    "print(type(t))"
   ]
  },
  {
   "cell_type": "code",
   "execution_count": 12,
   "metadata": {},
   "outputs": [
    {
     "name": "stdout",
     "output_type": "stream",
     "text": [
      "<class 'list'>\n"
     ]
    }
   ],
   "source": [
    "m = [120,250,560,'mgblock']\n",
    "print(type(m))"
   ]
  },
  {
   "cell_type": "code",
   "execution_count": null,
   "metadata": {},
   "outputs": [],
   "source": []
  }
 ],
 "metadata": {
  "kernelspec": {
   "display_name": "Python 3",
   "language": "python",
   "name": "python3"
  },
  "language_info": {
   "codemirror_mode": {
    "name": "ipython",
    "version": 3
   },
   "file_extension": ".py",
   "mimetype": "text/x-python",
   "name": "python",
   "nbconvert_exporter": "python",
   "pygments_lexer": "ipython3",
   "version": "3.7.3"
  }
 },
 "nbformat": 4,
 "nbformat_minor": 2
}
